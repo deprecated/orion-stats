{
 "metadata": {
  "name": ""
 },
 "nbformat": 3,
 "nbformat_minor": 0,
 "worksheets": [
  {
   "cells": [
    {
     "cell_type": "code",
     "collapsed": false,
     "input": [
      "from astropy.io import fits"
     ],
     "language": "python",
     "metadata": {},
     "outputs": [],
     "prompt_number": 1
    },
    {
     "cell_type": "code",
     "collapsed": false,
     "input": [
      "data = fits.open(\"Moment-Maps/oi_-040+070.wisomom-mean-smooth2d.fits\")[0].data[100:-100, 4:-4]"
     ],
     "language": "python",
     "metadata": {},
     "outputs": [],
     "prompt_number": 63
    },
    {
     "cell_type": "code",
     "collapsed": false,
     "input": [
      "data"
     ],
     "language": "python",
     "metadata": {},
     "outputs": [
      {
       "metadata": {},
       "output_type": "pyout",
       "prompt_number": 64,
       "text": [
        "array([[ 16.28058434,   2.92729473, -10.61077023, ...,  25.28967857,\n",
        "         24.29434967,  23.8958683 ],\n",
        "       [ 26.14327621,  21.32336617,  14.55660534, ...,  24.66843414,\n",
        "         22.45219803,  21.56972122],\n",
        "       [ 39.13256836,  39.16088867,  49.18115234, ...,  23.06019211,\n",
        "         19.58303833,  18.2004528 ],\n",
        "       ..., \n",
        "       [ 30.47915268,  32.09854126,  32.68793488, ...,  21.7786274 ,\n",
        "         22.13790131,  22.27755165],\n",
        "       [ 28.1418972 ,  28.68873978,  28.62474632, ...,  20.43681335,\n",
        "         21.09278107,  21.35010719],\n",
        "       [ 34.10089874,  35.26164627,  35.80911636, ...,  21.39132118,\n",
        "         20.24358368,  19.78527641]], dtype=float32)"
       ]
      }
     ],
     "prompt_number": 64
    },
    {
     "cell_type": "code",
     "collapsed": false,
     "input": [
      "mask = (data > -40.0) & (data < 70.0)"
     ],
     "language": "python",
     "metadata": {},
     "outputs": [],
     "prompt_number": 65
    },
    {
     "cell_type": "code",
     "collapsed": false,
     "input": [
      "sum(mask)"
     ],
     "language": "python",
     "metadata": {},
     "outputs": [
      {
       "metadata": {},
       "output_type": "pyout",
       "prompt_number": 66,
       "text": [
        "130986"
       ]
      }
     ],
     "prompt_number": 66
    },
    {
     "cell_type": "code",
     "collapsed": false,
     "input": [
      "import numpy as np"
     ],
     "language": "python",
     "metadata": {},
     "outputs": [],
     "prompt_number": 67
    },
    {
     "cell_type": "code",
     "collapsed": false,
     "input": [
      "np.product(mask.shape)"
     ],
     "language": "python",
     "metadata": {},
     "outputs": [
      {
       "metadata": {},
       "output_type": "pyout",
       "prompt_number": 68,
       "text": [
        "132908"
       ]
      }
     ],
     "prompt_number": 68
    },
    {
     "cell_type": "code",
     "collapsed": false,
     "input": [
      "data[mask].mean(), data[mask].std()"
     ],
     "language": "python",
     "metadata": {},
     "outputs": [
      {
       "metadata": {},
       "output_type": "pyout",
       "prompt_number": 69,
       "text": [
        "(26.506115157345061, 7.1746360152521733)"
       ]
      }
     ],
     "prompt_number": 69
    },
    {
     "cell_type": "code",
     "collapsed": false,
     "input": [
      "H, edges = np.histogram(data[mask], bins=440, range=(-40., 70.))"
     ],
     "language": "python",
     "metadata": {},
     "outputs": [],
     "prompt_number": 70
    },
    {
     "cell_type": "code",
     "collapsed": false,
     "input": [
      "vel = 0.5*(edges[:-1] + edges[1:])"
     ],
     "language": "python",
     "metadata": {},
     "outputs": [],
     "prompt_number": 71
    },
    {
     "cell_type": "code",
     "collapsed": false,
     "input": [
      "plot(vel, H, drawstyle='steps-mid')\n",
      "xlim(0.0, 45.)\n",
      "xlabel(\"Mean velocity\")\n",
      "ylabel(\"Number of pixels\")"
     ],
     "language": "python",
     "metadata": {},
     "outputs": [
      {
       "metadata": {},
       "output_type": "pyout",
       "prompt_number": 73,
       "text": [
        "<matplotlib.text.Text at 0x110546550>"
       ]
      },
      {
       "metadata": {},
       "output_type": "display_data",
       "png": "[encoded data removed]",
       "text": [
        "<matplotlib.figure.Figure at 0x10f2420d0>"
       ]
      }
     ],
     "prompt_number": 73
    },
    {
     "cell_type": "code",
     "collapsed": false,
     "input": [
      "plot?"
     ],
     "language": "python",
     "metadata": {},
     "outputs": [],
     "prompt_number": 24
    }
   ],
   "metadata": {}
  }
 ]
}